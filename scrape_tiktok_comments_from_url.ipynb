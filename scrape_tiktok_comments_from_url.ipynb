{
  "nbformat": 4,
  "nbformat_minor": 0,
  "metadata": {
    "colab": {
      "provenance": []
    },
    "kernelspec": {
      "name": "python3",
      "display_name": "Python 3"
    },
    "language_info": {
      "name": "python"
    }
  },
  "cells": [
    {
      "cell_type": "code",
      "source": [
        "import requests\n",
        "import pandas as pd\n",
        "import time\n",
        "import re\n",
        "from tqdm import tqdm\n",
        "import json\n",
        "\n",
        "print(\"✅ Setup Complete. Libraries for API requests are installed.\")"
      ],
      "metadata": {
        "colab": {
          "base_uri": "https://localhost:8080/"
        },
        "id": "VAiXkBbNG_ud",
        "outputId": "fff1d80a-5396-4c0f-d7fc-b27ba5cd13f8"
      },
      "execution_count": 5,
      "outputs": [
        {
          "output_type": "stream",
          "name": "stdout",
          "text": [
            "✅ Setup Complete. Libraries for API requests are installed.\n"
          ]
        }
      ]
    },
    {
      "cell_type": "code",
      "source": [
        "# =============================================================================\n",
        "# Cell 2: Modular Functions (API Logic)\n",
        "# =============================================================================\n",
        "\n",
        "def get_video_id_from_url(video_url):\n",
        "    \"\"\"\n",
        "    Extracts the unique video ID from a full TikTok URL using regex.\n",
        "    e.g., '.../video/7548476830056025374' -> '7548476830056025374'\n",
        "    \"\"\"\n",
        "    print(\"Extracting video ID...\")\n",
        "    match = re.search(r\"/video/(\\d+)\", video_url)\n",
        "    if match:\n",
        "        video_id = match.group(1)\n",
        "        print(f\"✅ Found Video ID: {video_id}\")\n",
        "        return video_id\n",
        "    else:\n",
        "        print(\"❌ Could not find video ID in the URL.\")\n",
        "        return None\n",
        "\n",
        "def fetch_comments_page(video_id, cursor=0, count=50):\n",
        "    \"\"\"\n",
        "    Fetches a single page of comments from TikTok's internal API.\n",
        "\n",
        "    Args:\n",
        "        video_id (str): The unique ID of the video.\n",
        "        cursor (int): The starting point for the comment page (0 for the first page).\n",
        "        count (int): How many comments to fetch per request (max seems to be around 50).\n",
        "\n",
        "    Returns:\n",
        "        dict: The JSON response from the API, or None if the request fails.\n",
        "    \"\"\"\n",
        "    # This is the base API endpoint. The parameters will be added by `requests`.\n",
        "    API_ENDPOINT = \"https://www.tiktok.com/api/comment/list/\"\n",
        "\n",
        "    params = {\n",
        "        \"aid\": \"1988\",\n",
        "        \"aweme_id\": video_id,\n",
        "        \"count\": count,\n",
        "        \"cursor\": cursor\n",
        "    }\n",
        "\n",
        "    # We add headers to look like a real browser request.\n",
        "    headers = {\n",
        "        \"User-Agent\": \"Mozilla/5.0 (Windows NT 10.0; Win64; x64) AppleWebKit/537.36 (KHTML, like Gecko) Chrome/91.0.4472.124 Safari/537.36\",\n",
        "        \"Accept-Language\": \"en-US,en;q=0.5\",\n",
        "    }\n",
        "\n",
        "    try:\n",
        "        response = requests.get(API_ENDPOINT, params=params, headers=headers)\n",
        "        response.raise_for_status()  # This will raise an error for bad responses (4xx or 5xx)\n",
        "        return response.json()\n",
        "    except requests.exceptions.RequestException as e:\n",
        "        print(f\"❌ API request failed: {e}\")\n",
        "        return None\n",
        "\n",
        "def extract_data_from_response(response_json):\n",
        "    \"\"\"\n",
        "    Parses the JSON response to extract relevant comment data.\n",
        "    \"\"\"\n",
        "    comments_data = []\n",
        "    if not response_json or \"comments\" not in response_json or response_json[\"comments\"] is None:\n",
        "        return comments_data, 0, False # No comments, new cursor is 0, no more pages\n",
        "\n",
        "    for comment in response_json[\"comments\"]:\n",
        "        comments_data.append({\n",
        "            'username': comment.get('user', {}).get('nickname', 'N/A'),\n",
        "            'comment_text': comment.get('text', ''),\n",
        "            'digg_count': comment.get('digg_count', 0),\n",
        "            'create_time': comment.get('create_time', 0)\n",
        "        })\n",
        "\n",
        "    new_cursor = response_json.get(\"cursor\", 0)\n",
        "    has_more = response_json.get(\"has_more\", 0) == 1\n",
        "\n",
        "    return comments_data, new_cursor, has_more\n",
        "\n",
        "def save_to_csv(data, filename=\"tiktok_comments_api1.csv\"):\n",
        "    \"\"\"Saves the extracted data to a CSV file.\"\"\"\n",
        "    if not data:\n",
        "        print(\"No data to save.\")\n",
        "        return\n",
        "\n",
        "    df = pd.DataFrame(data)\n",
        "    df.to_csv(filename, index=False, encoding='utf-8-sig')\n",
        "    print(f\"💾 Data successfully saved to {filename}.\")"
      ],
      "metadata": {
        "id": "CWpP3cozN8cV"
      },
      "execution_count": 8,
      "outputs": []
    },
    {
      "cell_type": "code",
      "source": [
        "# =============================================================================\n",
        "# Cell 3: Configuration and Main Execution\n",
        "# =============================================================================\n",
        "\n",
        "# --- Configuration ---\n",
        "VIDEO_URL = \"https://www.tiktok.com/@obsii_boon/video/7559164735350967608\" # Paste the URL here\n",
        "MAX_COMMENTS_TO_FETCH = 200 # Set your desired total number of comments\n",
        "DELAY_BETWEEN_REQUESTS = 1.0 # Seconds to wait to be respectful to the API\n",
        "\n",
        "# --- Main Execution Logic ---\n",
        "video_id = get_video_id_from_url(VIDEO_URL)\n",
        "\n",
        "if video_id:\n",
        "    all_comments = []\n",
        "    current_cursor = 0\n",
        "    has_more_comments = True\n",
        "\n",
        "    pbar = tqdm(total=MAX_COMMENTS_TO_FETCH, desc=\"Fetching comments\")\n",
        "\n",
        "    while len(all_comments) < MAX_COMMENTS_TO_FETCH and has_more_comments:\n",
        "        # --- Step 1: Fetch a page of data from the API ---\n",
        "        response_data = fetch_comments_page(video_id, cursor=current_cursor)\n",
        "\n",
        "        if response_data:\n",
        "            # --- Step 2: Extract and process the data ---\n",
        "            comments_page, new_cursor, has_more_comments = extract_data_from_response(response_data)\n",
        "\n",
        "            if not comments_page: # Break if no comments were returned\n",
        "                print(\"No more comments found on this page.\")\n",
        "                break\n",
        "\n",
        "            all_comments.extend(comments_page)\n",
        "            pbar.update(len(comments_page))\n",
        "\n",
        "            # --- Step 3: Prepare for the next loop ---\n",
        "            current_cursor = new_cursor\n",
        "\n",
        "            # Be a good internet citizen and wait before the next request\n",
        "            time.sleep(DELAY_BETWEEN_REQUESTS)\n",
        "        else:\n",
        "            # If the API request failed, stop trying.\n",
        "            print(\"Halting due to API request failure.\")\n",
        "            break\n",
        "\n",
        "    pbar.close()\n",
        "\n",
        "    # --- Step 4: Save the final results ---\n",
        "    # Trim the list to the exact number requested\n",
        "    final_comments = all_comments[:MAX_COMMENTS_TO_FETCH]\n",
        "    print(f\"\\nTotal comments fetched: {len(final_comments)}\")\n",
        "    save_to_csv(final_comments)\n",
        "else:\n",
        "    print(\"Could not proceed without a valid Video ID.\")"
      ],
      "metadata": {
        "colab": {
          "base_uri": "https://localhost:8080/"
        },
        "id": "lh2yNzlzN_UZ",
        "outputId": "26fbcdc2-175f-444c-d932-8ca4fc612a91"
      },
      "execution_count": 9,
      "outputs": [
        {
          "output_type": "stream",
          "name": "stdout",
          "text": [
            "Extracting video ID...\n",
            "✅ Found Video ID: 7559164735350967608\n"
          ]
        },
        {
          "output_type": "stream",
          "name": "stderr",
          "text": [
            "Fetching comments: 100%|██████████| 200/200 [00:04<00:00, 40.63it/s]"
          ]
        },
        {
          "output_type": "stream",
          "name": "stdout",
          "text": [
            "\n",
            "Total comments fetched: 200\n",
            "💾 Data successfully saved to tiktok_comments_api1.csv.\n"
          ]
        },
        {
          "output_type": "stream",
          "name": "stderr",
          "text": [
            "\n"
          ]
        }
      ]
    },
    {
      "cell_type": "code",
      "source": [],
      "metadata": {
        "id": "yGCj1S74OY3N"
      },
      "execution_count": 7,
      "outputs": []
    }
  ]
}